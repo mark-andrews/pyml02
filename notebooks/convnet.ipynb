{
 "cells": [
  {
   "cell_type": "markdown",
   "metadata": {},
   "source": [
    "# Load training and test data\n",
    "\n",
    "First, we want to load the training and test data and preprocess it before use. The preprocessing is done using `torchvision.transforms.Compose`, which allows a series of transformations to be applied. The main preprocessing is simply normalization, using `torchvision.transforms.Normalize`. The `ToTensor` converts the numpy arrays to tensors."
   ]
  },
  {
   "cell_type": "code",
   "execution_count": 1,
   "metadata": {
    "id": "yH6Ix2dXNsFo"
   },
   "outputs": [],
   "source": [
    "import torch\n",
    "import torchvision\n",
    "\n",
    "# set up some transforms\n",
    "torch_transforms = torchvision.transforms.Compose(\n",
    "    [torchvision.transforms.ToTensor(),\n",
    "     torchvision.transforms.Normalize((0.1307,), (0.3081,))]\n",
    ")\n",
    "\n",
    "# Download mnist data, preprocess, save to directory `./files`\n",
    "mnist_train = torchvision.datasets.MNIST('./files/', train=True, download=True, transform=torch_transforms)\n",
    "mnist_test = torchvision.datasets.MNIST('./files/', train=False, download=True, transform=torch_transforms)\n",
    "\n",
    "# create the data loader objects; this creates an iterable\n",
    "train_loader = torch.utils.data.DataLoader(mnist_train, batch_size=20, shuffle=True)\n",
    "test_loader = torch.utils.data.DataLoader(mnist_test, batch_size = 1000, shuffle=True)"
   ]
  },
  {
   "cell_type": "markdown",
   "metadata": {},
   "source": [
    "# Create conv net"
   ]
  },
  {
   "cell_type": "code",
   "execution_count": 2,
   "metadata": {
    "id": "P4XZN-3LO-jS"
   },
   "outputs": [],
   "source": [
    "from torch import nn\n",
    "from torch.nn import functional as F\n",
    "from torch.autograd import Variable\n",
    "import torch.optim as optim\n",
    "\n",
    "class ConvNet(nn.Module):\n",
    "    \n",
    "    def __init__(self):\n",
    "        super(ConvNet, self).__init__()\n",
    "        \n",
    "        # 1 input channel, 10 output channels, convolving kernel of size 5\n",
    "        self.conv_layer1 = nn.Conv2d(1, 10, kernel_size=5)\n",
    "        \n",
    "        # 10 input channel, 20 output channels, convolving kernel of size 5\n",
    "        self.conv_layer2 = nn.Conv2d(10, 20, kernel_size=5)\n",
    "        \n",
    "        # Randomly zero out channels, for regularization\n",
    "        self.conv_layer2_dropout = nn.Dropout2d()\n",
    "        \n",
    "        # linear layer: 320 units to 50\n",
    "        self.linear_layer_1 = nn.Linear(320, 50)\n",
    "        \n",
    "        # final layer: 50 units to 10;\n",
    "        # 10 is number of classes\n",
    "        # softmax will be applied\n",
    "        self.linear_layer_2 = nn.Linear(50, 10)\n",
    "\n",
    "    def forward(self, x):\n",
    "        # forward pass\n",
    "        # using rectified linear unit activation function\n",
    "        # applied to max pooling\n",
    "        x = F.relu(\n",
    "                F.max_pool2d(\n",
    "                    self.conv_layer1(x), 2))\n",
    "        \n",
    "        x = F.relu(\n",
    "                F.max_pool2d(\n",
    "                    self.conv_layer2_dropout(\n",
    "                        self.conv_layer2(x)\n",
    "                    ), 2)\n",
    "            )\n",
    "        \n",
    "        x = x.view(-1, 320) # reshape to 320 columns\n",
    "        x = F.relu(self.linear_layer_1(x))\n",
    "        x = F.dropout(x, \n",
    "                      training=self.training)\n",
    "        x = self.linear_layer_2(x)\n",
    "        \n",
    "        return F.log_softmax(x, dim = 1)"
   ]
  },
  {
   "cell_type": "code",
   "execution_count": 3,
   "metadata": {
    "id": "thdWoN7KQfQq"
   },
   "outputs": [],
   "source": [
    "convnet = ConvNet()\n",
    "\n",
    "optimizer = optim.SGD(convnet.parameters(), lr = 0.01)"
   ]
  },
  {
   "cell_type": "code",
   "execution_count": 4,
   "metadata": {
    "colab": {
     "base_uri": "https://localhost:8080/"
    },
    "id": "vN-CFHFCQmhp",
    "outputId": "e1255a4c-5262-4d77-8737-f12ad53e8862"
   },
   "outputs": [
    {
     "name": "stdout",
     "output_type": "stream",
     "text": [
      "2.263284206390381\n",
      "1.0636253356933594\n",
      "0.4785844385623932\n",
      "0.8917247653007507\n",
      "0.2977626919746399\n",
      "0.3288015127182007\n",
      "0.7607751488685608\n",
      "0.5436597466468811\n",
      "0.15207163989543915\n",
      "0.4659230709075928\n",
      "0.5002973079681396\n",
      "0.09498219192028046\n",
      "0.3240170478820801\n",
      "0.4145418107509613\n",
      "0.24259385466575623\n",
      "0.14451900124549866\n",
      "0.20439867675304413\n",
      "0.16882291436195374\n",
      "0.2743907570838928\n",
      "0.2627004384994507\n",
      "0.181642085313797\n",
      "0.051711685955524445\n",
      "0.40202587842941284\n",
      "0.47962814569473267\n",
      "0.2670667767524719\n",
      "0.21650806069374084\n",
      "0.12450365722179413\n",
      "0.10079549252986908\n",
      "0.13512983918190002\n",
      "0.10721735656261444\n",
      "0.08505983650684357\n",
      "0.19369365274906158\n",
      "0.12274066358804703\n",
      "0.032289229333400726\n",
      "0.12263616174459457\n",
      "0.5560099482536316\n",
      "0.010165827348828316\n",
      "0.42380914092063904\n",
      "0.19152328372001648\n",
      "0.08325190097093582\n",
      "0.0907195508480072\n",
      "0.24130377173423767\n",
      "0.05588749051094055\n",
      "0.18094287812709808\n",
      "0.3862128257751465\n",
      "0.09364720433950424\n",
      "0.34869492053985596\n",
      "0.14530973136425018\n",
      "0.015458449721336365\n",
      "0.06244869902729988\n",
      "0.2476710081100464\n",
      "0.0138070834800601\n",
      "0.1509474813938141\n",
      "0.5167256593704224\n",
      "0.3406369090080261\n",
      "0.0761992335319519\n",
      "0.3277991712093353\n",
      "0.10598268359899521\n",
      "0.022145207971334457\n",
      "0.03935246914625168\n"
     ]
    }
   ],
   "source": [
    "# Iterate\n",
    "for iteration in range(10):\n",
    "    for batch_idx, (data, target) in enumerate(train_loader):\n",
    "\n",
    "        optimizer.zero_grad()\n",
    "        output = convnet(data)\n",
    "        loss = F.nll_loss(output, target)\n",
    "        loss.backward()\n",
    "        optimizer.step()\n",
    "\n",
    "        if batch_idx % 500 == 0:\n",
    "            print(loss.item())"
   ]
  },
  {
   "cell_type": "code",
   "execution_count": null,
   "metadata": {},
   "outputs": [],
   "source": []
  }
 ],
 "metadata": {
  "colab": {
   "name": "convnet.ipynb",
   "provenance": []
  },
  "kernelspec": {
   "display_name": "Python 3",
   "language": "python",
   "name": "python3"
  },
  "language_info": {
   "codemirror_mode": {
    "name": "ipython",
    "version": 3
   },
   "file_extension": ".py",
   "mimetype": "text/x-python",
   "name": "python",
   "nbconvert_exporter": "python",
   "pygments_lexer": "ipython3",
   "version": "3.10.4"
  }
 },
 "nbformat": 4,
 "nbformat_minor": 1
}

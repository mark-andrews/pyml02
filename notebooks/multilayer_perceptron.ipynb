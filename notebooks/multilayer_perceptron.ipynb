{
 "cells": [
  {
   "cell_type": "code",
   "execution_count": 1,
   "id": "f13f68b5",
   "metadata": {},
   "outputs": [],
   "source": [
    "import torch"
   ]
  },
  {
   "cell_type": "code",
   "execution_count": 3,
   "id": "669ae35a",
   "metadata": {},
   "outputs": [],
   "source": [
    "from torch import nn\n",
    "from torch.nn import functional\n",
    "from torch.autograd import Variable"
   ]
  },
  {
   "cell_type": "code",
   "execution_count": 4,
   "id": "ccf83bbd",
   "metadata": {},
   "outputs": [],
   "source": [
    "from sklearn import datasets\n",
    "from sklearn.metrics import classification_report, confusion_matrix\n",
    "from sklearn.model_selection import train_test_split"
   ]
  },
  {
   "cell_type": "code",
   "execution_count": 7,
   "id": "d3d6332c",
   "metadata": {},
   "outputs": [],
   "source": [
    "iris = datasets.load_iris()\n",
    "X_train, X_test, y_train, y_test = train_test_split(iris['data'],\n",
    "                                                    iris['target'],\n",
    "                                                    test_size=0.2,\n",
    "                                                    random_state=42)"
   ]
  },
  {
   "cell_type": "code",
   "execution_count": 8,
   "id": "90dbffc3",
   "metadata": {},
   "outputs": [],
   "source": [
    "class MLP(nn.Module):\n",
    "    \n",
    "    def __init__(self):\n",
    "        \n",
    "        super(MLP, self).__init__()\n",
    "        \n",
    "        self.W1 = nn.Linear(4, 2)\n",
    "        self.W2 = nn.Linear(2, 3)\n",
    "        \n",
    "        self.softmax = nn.Softmax(dim = 1)\n",
    "        \n",
    "    def forward(self, X):\n",
    "        \n",
    "        X = functional.relu(self.W1(X))\n",
    "        X = self.W2(X)\n",
    "        X = self.softmax(X)\n",
    "        \n",
    "        return X"
   ]
  },
  {
   "cell_type": "code",
   "execution_count": 15,
   "id": "46116235",
   "metadata": {},
   "outputs": [],
   "source": [
    "X_train = Variable(torch.Tensor(X_train).float())\n",
    "X_test = Variable(torch.Tensor(X_test).float())\n",
    "\n",
    "y_train = Variable(torch.Tensor(y_train).long())\n",
    "y_test = Variable(torch.Tensor(y_test).long())"
   ]
  },
  {
   "cell_type": "code",
   "execution_count": 18,
   "id": "4c6e4aa5",
   "metadata": {},
   "outputs": [],
   "source": [
    "mlp = MLP()"
   ]
  },
  {
   "cell_type": "code",
   "execution_count": 19,
   "id": "501b5670",
   "metadata": {},
   "outputs": [],
   "source": [
    "criterion = nn.CrossEntropyLoss()"
   ]
  },
  {
   "cell_type": "code",
   "execution_count": 20,
   "id": "e1ea157b",
   "metadata": {},
   "outputs": [],
   "source": [
    "optimizer = torch.optim.SGD(mlp.parameters(), lr = 0.01)"
   ]
  },
  {
   "cell_type": "code",
   "execution_count": null,
   "id": "0835780f",
   "metadata": {},
   "outputs": [],
   "source": [
    "for iteration in range(50000):\n",
    "    \n",
    "    optimizer.zero_grad()\n",
    "    \n",
    "    # forward pass\n",
    "    output = mlp(X_train)\n",
    "    \n",
    "    # calculate the error \n",
    "    error = criterion(output, y_train)\n",
    "    \n",
    "    # backprop step\n",
    "    error.backward()\n",
    "    \n",
    "    # takes a step down the objective function\n",
    "    optimizer.step()\n",
    "    \n",
    "    if iteration % 500 == 0:\n",
    "        err = error.data\n",
    "        print('Iteration {0}: Error = {1}'.format(iteration, err)"
   ]
  }
 ],
 "metadata": {
  "kernelspec": {
   "display_name": "Python 3",
   "language": "python",
   "name": "python3"
  },
  "language_info": {
   "codemirror_mode": {
    "name": "ipython",
    "version": 3
   },
   "file_extension": ".py",
   "mimetype": "text/x-python",
   "name": "python",
   "nbconvert_exporter": "python",
   "pygments_lexer": "ipython3",
   "version": "3.9.5"
  }
 },
 "nbformat": 4,
 "nbformat_minor": 5
}
